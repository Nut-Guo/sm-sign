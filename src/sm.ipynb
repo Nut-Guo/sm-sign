{
 "cells": [
  {
   "cell_type": "code",
   "execution_count": 2,
   "metadata": {},
   "outputs": [
    {
     "name": "stdout",
     "output_type": "stream",
     "text": [
      "False\n"
     ]
    }
   ],
   "source": [
    "from zipfile import ZipFile\n",
    "import sys\n",
    "sys.path.insert(0, '/mnt/d/Documents/Chores/homework/NSS/main/lab/sslc/signer/sm-sign')\n",
    "import io\n",
    "dir = \"/mnt/d/Documents/Chores/homework/NSS/main/lab/sslc/test/valid/\"\n",
    "file_name = \"com.android.vending-16.apk\"\n",
    "import sm\n",
    "import os.path\n",
    "import base64\n",
    "sign_apk = ZipFile(os.path.join(dir, file_name) + \".sm2\", mode = 'w')\n",
    "key = sm.generate_SM2_key_files(b'pubkey.ec', b'pri_key.ec', b'12345678')\n",
    "with ZipFile(os.path.join(dir, file_name), 'r') as zfile:\n",
    "    mf = b'Manifest-Version: 1.0\\nBuilt-By: Sign tool\\nCreated-By: Siliang Qin\\n'\n",
    "    dgst = b''\n",
    "    for finfo in zfile.infolist():\n",
    "        if('META-INF' in finfo.filename):\n",
    "            continue\n",
    "        content = zfile.read(finfo.filename)\n",
    "        sign_apk.writestr(finfo.filename, content)\n",
    "        s = sm.SM3(content)\n",
    "        dgst += b'\\nNAME: %s\\nSM3-Digest: %s\\n' %( finfo.filename.encode('utf-8'), base64.b64encode(s))\n",
    "    mf += dgst        \n",
    "    sign_apk.writestr('META-INF/MANIFEST.MF', mf)\n",
    "    sf = b\"Signature-Version: 1.0\\nX-Android-APK-Signed: 2\\n\"\n",
    "    sf += b\"SM3-Digest-Manifest: \"\n",
    "    sf += base64.b64encode(sm.SM3(mf))\n",
    "    sf +=b'\\nCreated-By: 1.0 (Android)\\n'\n",
    "    sf += dgst\n",
    "    sign_apk.writestr('META-INF/CERT.SF', sf)\n",
    "    key = sm.read_private_key(b'pri_key.ec', b'12345678')\n",
    "    pubkey = sm.read_public_key(b'pubkey.ec')\n",
    "    # sign = sm.SM2_SIGN(sf, key)\n",
    "    x509 = sm.generate_x509(key, pubkey, b'cert.x509')\n",
    "    p7 = sm.pkcs7_sign(x509, key, sf)\n",
    "    # print(p7)\n",
    "    sign_apk.writestr('META-INF/CERT.SM2', p7)\n",
    "    s = sm.pkcs7_verify(p7, sf)\n",
    "    print(s)\n",
    "    # print(sign)\n",
    "sign_apk.close()"
   ]
  },
  {
   "cell_type": "code",
   "execution_count": 3,
   "metadata": {},
   "outputs": [],
   "source": [
    "key = sm.generate_SM2_key_files(b'pubkey.ec', b'pri_key.ec', b'12345678')"
   ]
  },
  {
   "cell_type": "code",
   "execution_count": 3,
   "metadata": {},
   "outputs": [],
   "source": [
    "priv_key = sm.read_private_key(b'pri_key.ec', b'12345678')"
   ]
  },
  {
   "cell_type": "code",
   "execution_count": 4,
   "metadata": {},
   "outputs": [],
   "source": [
    "pkcs8 = sm.write_pkcs8(b'key.pk8', priv_key, b'12345678')"
   ]
  },
  {
   "cell_type": "code",
   "execution_count": 7,
   "metadata": {},
   "outputs": [],
   "source": [
    "x509 = sm.generate_x509(priv_key, priv_key, b'cert.x509')"
   ]
  },
  {
   "cell_type": "code",
   "execution_count": 6,
   "metadata": {},
   "outputs": [],
   "source": []
  }
 ],
 "metadata": {
  "kernelspec": {
   "display_name": "Python 3",
   "language": "python",
   "name": "python3"
  },
  "language_info": {
   "codemirror_mode": {
    "name": "ipython",
    "version": 3
   },
   "file_extension": ".py",
   "mimetype": "text/x-python",
   "name": "python",
   "nbconvert_exporter": "python",
   "pygments_lexer": "ipython3",
   "version": "3.8.5"
  }
 },
 "nbformat": 4,
 "nbformat_minor": 4
}
